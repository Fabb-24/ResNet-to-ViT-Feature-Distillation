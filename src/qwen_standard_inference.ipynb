{
 "cells": [
  {
   "cell_type": "markdown",
   "id": "04919c26",
   "metadata": {},
   "source": [
    "### Libraries and device"
   ]
  },
  {
   "cell_type": "code",
   "execution_count": 1,
   "id": "6c3c2181",
   "metadata": {},
   "outputs": [
    {
     "name": "stdout",
     "output_type": "stream",
     "text": [
      "[INFO] Using device: cuda\n"
     ]
    }
   ],
   "source": [
    "import warnings\n",
    "warnings.filterwarnings(\"ignore\")\n",
    "\n",
    "from transformers import AutoProcessor, Qwen2_5_VLForConditionalGeneration\n",
    "import torch\n",
    "import os\n",
    "from qwen_vl_utils import process_vision_info\n",
    "\n",
    "from util import preprocess_image\n",
    "\n",
    "device = \"cuda\" if torch.cuda.is_available() else \"cpu\"\n",
    "print(f\"[INFO] Using device: {device}\")"
   ]
  },
  {
   "cell_type": "markdown",
   "id": "3ab1e072",
   "metadata": {},
   "source": [
    "### Model initialization"
   ]
  },
  {
   "cell_type": "code",
   "execution_count": null,
   "id": "bf6b8f08",
   "metadata": {},
   "outputs": [
    {
     "name": "stdout",
     "output_type": "stream",
     "text": [
      "[INFO] Loading Qwen processor...\n",
      "[INFO] Qwen processor loaded.\n",
      "\n",
      "[INFO] Loading Qwen model...\n"
     ]
    },
    {
     "data": {
      "application/vnd.jupyter.widget-view+json": {
       "model_id": "7d1663499496412c80d8d26af6359446",
       "version_major": 2,
       "version_minor": 0
      },
      "text/plain": [
       "Loading checkpoint shards:   0%|          | 0/2 [00:00<?, ?it/s]"
      ]
     },
     "metadata": {},
     "output_type": "display_data"
    },
    {
     "name": "stdout",
     "output_type": "stream",
     "text": [
      "[INFO] Qwen model loaded.\n"
     ]
    }
   ],
   "source": [
    "# Load Qwen model and processor\n",
    "qwen_model_name = \"Qwen/Qwen2.5-VL-3B-Instruct\"\n",
    "qwen_processor_folder = os.path.join(\"..\", \"assets\", \"qwen_processor\")\n",
    "\n",
    "print(\"[INFO] Loading Qwen processor...\")\n",
    "qwen_processor = AutoProcessor.from_pretrained(qwen_processor_folder, trust_remote_code=True, use_fast=True, verbose=False)\n",
    "print(\"[INFO] Qwen processor loaded.\\n\")\n",
    "\n",
    "print(\"[INFO] Loading Qwen model...\")\n",
    "qwen_model = Qwen2_5_VLForConditionalGeneration.from_pretrained(\n",
    "    qwen_model_name,\n",
    "    torch_dtype=torch.float16,\n",
    ")\n",
    "qwen_model.to(device)\n",
    "print(\"[INFO] Qwen model loaded.\")"
   ]
  },
  {
   "cell_type": "markdown",
   "id": "276f28ef",
   "metadata": {},
   "source": [
    "### Inference"
   ]
  },
  {
   "cell_type": "code",
   "execution_count": 3,
   "id": "5ae1108b",
   "metadata": {},
   "outputs": [
    {
     "name": "stdout",
     "output_type": "stream",
     "text": [
      "[INFO] Generating...\n",
      "\n",
      "--- Output ---\n",
      "The image depicts a large, historic castle with a distinctive octagonal shape and multiple towers. The castle is constructed from stone and features a central entrance with a large, arched doorway. Surrounding the entrance are several smaller windows and turrets. The castle is situated in a lush, green landscape with rolling hills and dense forests in the background. The ground around the castle is paved, and there are a few people visible near the entrance, suggesting that the castle might be open to visitors or tourists. The overall scene conveys a sense of historical significance and natural beauty.\n"
     ]
    }
   ],
   "source": [
    "# Image setup\n",
    "image_size = 384\n",
    "image_path = os.path.join(\"..\", \"test_images\", \"casteldelmonte.jpg\")\n",
    "image = preprocess_image(image_path, image_size)\n",
    "\n",
    "\n",
    "# Prepare inputs\n",
    "messages = [\n",
    "    {\n",
    "        \"role\": \"user\",\n",
    "        \"content\": [\n",
    "            {\"type\": \"image\", \"image\": image},\n",
    "            {\"type\": \"text\", \"text\": \"Describe this image.\"},\n",
    "        ],\n",
    "    }\n",
    "]\n",
    "\n",
    "text = qwen_processor.apply_chat_template(messages, add_generation_prompt=True, tokenize=False)\n",
    "image_inputs, video_inputs = process_vision_info(messages)\n",
    "\n",
    "inputs = qwen_processor(\n",
    "    text=[text],\n",
    "    images=image_inputs,\n",
    "    videos=video_inputs,\n",
    "    return_tensors=\"pt\",\n",
    "    padding=True\n",
    ").to(device)\n",
    "\n",
    "\n",
    "# Inference\n",
    "print(\"[INFO] Generating...\")\n",
    "with torch.no_grad():\n",
    "    outputs = qwen_model.generate(\n",
    "        **inputs,\n",
    "        max_new_tokens=128,\n",
    "    )\n",
    "\n",
    "generated_ids_trimmed = [\n",
    "    out_ids[len(in_ids) :] for in_ids, out_ids in zip(inputs['input_ids'], outputs)\n",
    "]\n",
    "output_text = qwen_processor.batch_decode(\n",
    "    generated_ids_trimmed, skip_special_tokens=True, clean_up_tokenization_spaces=False\n",
    ")\n",
    "print(\"\\n--- Output ---\")\n",
    "print(output_text[0])"
   ]
  }
 ],
 "metadata": {
  "kernelspec": {
   "display_name": "Python 3",
   "language": "python",
   "name": "python3"
  },
  "language_info": {
   "codemirror_mode": {
    "name": "ipython",
    "version": 3
   },
   "file_extension": ".py",
   "mimetype": "text/x-python",
   "name": "python",
   "nbconvert_exporter": "python",
   "pygments_lexer": "ipython3",
   "version": "3.11.9"
  }
 },
 "nbformat": 4,
 "nbformat_minor": 5
}
